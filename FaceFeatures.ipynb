{
 "cells": [
  {
   "cell_type": "code",
   "execution_count": 1,
   "id": "0c939dcd",
   "metadata": {
    "ExecuteTime": {
     "end_time": "2021-08-16T09:06:54.744003Z",
     "start_time": "2021-08-16T09:06:54.323215Z"
    }
   },
   "outputs": [],
   "source": [
    "import cv2\n",
    "import dlib\n",
    "\n",
    "detector = dlib.get_frontal_face_detector()"
   ]
  },
  {
   "cell_type": "markdown",
   "id": "8dba67b1",
   "metadata": {
    "heading_collapsed": true
   },
   "source": [
    "# Rectangle"
   ]
  },
  {
   "cell_type": "code",
   "execution_count": null,
   "id": "636dfda3",
   "metadata": {
    "ExecuteTime": {
     "end_time": "2021-08-16T08:29:18.031853Z",
     "start_time": "2021-08-16T08:29:04.232887Z"
    },
    "hidden": true,
    "scrolled": true
   },
   "outputs": [],
   "source": [
    "# 選擇第一隻攝影機\n",
    "cap = cv2.VideoCapture(0)\n",
    "\n",
    "while(True):\n",
    "    # 從攝影機擷取一張影像\n",
    "    ret, frame = cap.read()\n",
    "\n",
    "    # 轉成灰階，因為get_frontal_face_detector只支援灰階\n",
    "    gray = cv2.cvtColor(frame, cv2.COLOR_BGR2GRAY)\n",
    "    \n",
    "    \n",
    "    #如果有偵測到人臉，detector會回傳四個座標，反之為空集合\n",
    "    faces = detector(gray)\n",
    "    for face in faces:\n",
    "        x1 = face.left() # left point\n",
    "        y1 = face.top()  # top point\n",
    "        x2 = face.right() # right point\n",
    "        y2 = face.bottom()# bottom point\n",
    "        # Draw a rectangle\n",
    "        cv2.rectangle(img = gray, pt1 = (x1, y1), pt2 = (x2, y2), color = (255, 255, 0), thickness=4)    \n",
    "\n",
    "    # 顯示圖片\n",
    "    cv2.imshow('frame', gray)\n",
    "\n",
    "    # 若按下 q 鍵則離開迴圈\n",
    "    if cv2.waitKey(1) & 0xFF == ord('q'):\n",
    "        break\n",
    "\n",
    "# 釋放攝影機\n",
    "cap.release()\n",
    "\n",
    "# 關閉所有 OpenCV 視窗\n",
    "cv2.destroyAllWindows()"
   ]
  },
  {
   "cell_type": "markdown",
   "id": "141624b1",
   "metadata": {},
   "source": [
    "# Shape predictor"
   ]
  },
  {
   "cell_type": "code",
   "execution_count": 2,
   "id": "f0ab8f57",
   "metadata": {
    "ExecuteTime": {
     "end_time": "2021-08-16T09:10:44.798431Z",
     "start_time": "2021-08-16T09:06:56.721934Z"
    }
   },
   "outputs": [],
   "source": [
    "cap = cv2.VideoCapture(0)\n",
    "# Load the predictor\n",
    "predictor = dlib.shape_predictor(\"shape_predictor_68_face_landmarks.dat\")\n",
    "\n",
    "while(True):\n",
    "    # 從攝影機擷取一張影像\n",
    "    ret, frame = cap.read() #480X640X3\n",
    "    # Convert image into grayscale\n",
    "    gray = cv2.cvtColor(frame, cv2.COLOR_BGR2GRAY) #480X640X1\n",
    "\n",
    "    # Use detector to find landmarks\n",
    "    faces = detector(gray)\n",
    "    for face in faces:\n",
    "        x1 = face.left() # left point\n",
    "        y1 = face.top() # top point\n",
    "        x2 = face.right() # right point\n",
    "        y2 = face.bottom() # bottom point\n",
    "        # Look for the landmarksq\n",
    "        landmarks = predictor(image=gray, box=face)\n",
    "\n",
    "        # Loop through all the points\n",
    "        for n in range(0, 68):\n",
    "            x = landmarks.part(n).x\n",
    "            y = landmarks.part(n).y\n",
    "            # Draw a circle\n",
    "            cv2.circle(img=frame, center=(x, y), radius=1, color=(0, 255, 0), thickness=-1)\n",
    "    cv2.imshow(winname=\"Face\", mat=frame)\n",
    "\n",
    "\n",
    "\n",
    "     # 若按下 q 鍵則離開迴圈\n",
    "    if cv2.waitKey(1) & 0xFF == ord('q'):\n",
    "        break\n",
    "            \n",
    "# 釋放攝影機\n",
    "cap.release()\n",
    "\n",
    "# 關閉所有 OpenCV 視窗\n",
    "cv2.destroyAllWindows()        "
   ]
  },
  {
   "cell_type": "markdown",
   "id": "781b5b46",
   "metadata": {},
   "source": [
    "# Custom Shape Predictor"
   ]
  },
  {
   "cell_type": "raw",
   "id": "ff5e0c13",
   "metadata": {},
   "source": [
    "https://www.pyimagesearch.com/2019/12/16/training-a-custom-dlib-shape-predictor/"
   ]
  }
 ],
 "metadata": {
  "kernelspec": {
   "display_name": "Python 3",
   "language": "python",
   "name": "python3"
  },
  "language_info": {
   "codemirror_mode": {
    "name": "ipython",
    "version": 3
   },
   "file_extension": ".py",
   "mimetype": "text/x-python",
   "name": "python",
   "nbconvert_exporter": "python",
   "pygments_lexer": "ipython3",
   "version": "3.8.0"
  }
 },
 "nbformat": 4,
 "nbformat_minor": 5
}
